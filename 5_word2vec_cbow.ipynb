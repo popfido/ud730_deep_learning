{
 "cells": [
  {
   "cell_type": "markdown",
   "metadata": {
    "colab_type": "text",
    "id": "D7tqLMoKF6uq"
   },
   "source": [
    "Deep Learning\n",
    "=============\n",
    "\n",
    "Assignment 5\n",
    "------------\n",
    "\n",
    "The goal of this assignment is to train a Word2Vec skip-gram model over [Text8](http://mattmahoney.net/dc/textdata) data."
   ]
  },
  {
   "cell_type": "code",
   "execution_count": 1,
   "metadata": {
    "cellView": "both",
    "colab": {
     "autoexec": {
      "startup": false,
      "wait_interval": 0
     }
    },
    "colab_type": "code",
    "collapsed": true,
    "id": "0K1ZyLn04QZf"
   },
   "outputs": [],
   "source": [
    "# These are all the modules we'll be using later. Make sure you can import them\n",
    "# before proceeding further.\n",
    "%matplotlib inline\n",
    "from __future__ import print_function\n",
    "import collections\n",
    "import math\n",
    "import numpy as np\n",
    "import os\n",
    "import random\n",
    "import tensorflow as tf\n",
    "import zipfile\n",
    "from matplotlib import pylab\n",
    "from six.moves import range\n",
    "from six.moves.urllib.request import urlretrieve\n",
    "from sklearn.manifold import TSNE"
   ]
  },
  {
   "cell_type": "markdown",
   "metadata": {
    "colab_type": "text",
    "id": "aCjPJE944bkV"
   },
   "source": [
    "Download the data from the source website if necessary."
   ]
  },
  {
   "cell_type": "code",
   "execution_count": 2,
   "metadata": {
    "cellView": "both",
    "colab": {
     "autoexec": {
      "startup": false,
      "wait_interval": 0
     },
     "output_extras": [
      {
       "item_id": 1
      }
     ]
    },
    "colab_type": "code",
    "collapsed": false,
    "executionInfo": {
     "elapsed": 14640,
     "status": "ok",
     "timestamp": 1445964482948,
     "user": {
      "color": "#1FA15D",
      "displayName": "Vincent Vanhoucke",
      "isAnonymous": false,
      "isMe": true,
      "permissionId": "05076109866853157986",
      "photoUrl": "//lh6.googleusercontent.com/-cCJa7dTDcgQ/AAAAAAAAAAI/AAAAAAAACgw/r2EZ_8oYer4/s50-c-k-no/photo.jpg",
      "sessionId": "2f1ffade4c9f20de",
      "userId": "102167687554210253930"
     },
     "user_tz": 420
    },
    "id": "RJ-o3UBUFtCw",
    "outputId": "c4ec222c-80b5-4298-e635-93ca9f79c3b7"
   },
   "outputs": [
    {
     "name": "stdout",
     "output_type": "stream",
     "text": [
      "Found and verified text8.zip\n"
     ]
    }
   ],
   "source": [
    "url = 'http://mattmahoney.net/dc/'\n",
    "\n",
    "def maybe_download(filename, expected_bytes):\n",
    "    \"\"\"Download a file if not present, and make sure it's the right size.\"\"\"\n",
    "    if not os.path.exists(filename):\n",
    "        filename, _ = urlretrieve(url + filename, filename)\n",
    "    statinfo = os.stat(filename)\n",
    "    if statinfo.st_size == expected_bytes:\n",
    "        print('Found and verified %s' % filename)\n",
    "    else:\n",
    "        print(statinfo.st_size)\n",
    "        raise Exception(\n",
    "          'Failed to verify ' + filename + '. Can you get to it with a browser?')\n",
    "    return filename\n",
    "\n",
    "filename = maybe_download('text8.zip', 31344016)"
   ]
  },
  {
   "cell_type": "markdown",
   "metadata": {
    "colab_type": "text",
    "id": "Zqz3XiqI4mZT"
   },
   "source": [
    "Read the data into a string."
   ]
  },
  {
   "cell_type": "code",
   "execution_count": 3,
   "metadata": {
    "cellView": "both",
    "colab": {
     "autoexec": {
      "startup": false,
      "wait_interval": 0
     },
     "output_extras": [
      {
       "item_id": 1
      }
     ]
    },
    "colab_type": "code",
    "collapsed": false,
    "executionInfo": {
     "elapsed": 28844,
     "status": "ok",
     "timestamp": 1445964497165,
     "user": {
      "color": "#1FA15D",
      "displayName": "Vincent Vanhoucke",
      "isAnonymous": false,
      "isMe": true,
      "permissionId": "05076109866853157986",
      "photoUrl": "//lh6.googleusercontent.com/-cCJa7dTDcgQ/AAAAAAAAAAI/AAAAAAAACgw/r2EZ_8oYer4/s50-c-k-no/photo.jpg",
      "sessionId": "2f1ffade4c9f20de",
      "userId": "102167687554210253930"
     },
     "user_tz": 420
    },
    "id": "Mvf09fjugFU_",
    "outputId": "e3a928b4-1645-4fe8-be17-fcf47de5716d"
   },
   "outputs": [
    {
     "name": "stdout",
     "output_type": "stream",
     "text": [
      "Data size 17005207\n"
     ]
    }
   ],
   "source": [
    "def read_data(filename):\n",
    "    \"\"\"Extract the first file enclosed in a zip file as a list of words\"\"\"\n",
    "    with zipfile.ZipFile(filename) as f:\n",
    "        data = tf.compat.as_str(f.read(f.namelist()[0])).split()\n",
    "    return data\n",
    "  \n",
    "words = read_data(filename)\n",
    "print('Data size %d' % len(words))"
   ]
  },
  {
   "cell_type": "markdown",
   "metadata": {
    "colab_type": "text",
    "id": "Zdw6i4F8glpp"
   },
   "source": [
    "Build the dictionary and replace rare words with UNK token."
   ]
  },
  {
   "cell_type": "code",
   "execution_count": 4,
   "metadata": {
    "cellView": "both",
    "colab": {
     "autoexec": {
      "startup": false,
      "wait_interval": 0
     },
     "output_extras": [
      {
       "item_id": 1
      }
     ]
    },
    "colab_type": "code",
    "collapsed": false,
    "executionInfo": {
     "elapsed": 28849,
     "status": "ok",
     "timestamp": 1445964497178,
     "user": {
      "color": "#1FA15D",
      "displayName": "Vincent Vanhoucke",
      "isAnonymous": false,
      "isMe": true,
      "permissionId": "05076109866853157986",
      "photoUrl": "//lh6.googleusercontent.com/-cCJa7dTDcgQ/AAAAAAAAAAI/AAAAAAAACgw/r2EZ_8oYer4/s50-c-k-no/photo.jpg",
      "sessionId": "2f1ffade4c9f20de",
      "userId": "102167687554210253930"
     },
     "user_tz": 420
    },
    "id": "gAL1EECXeZsD",
    "outputId": "3fb4ecd1-df67-44b6-a2dc-2291730970b2"
   },
   "outputs": [
    {
     "name": "stdout",
     "output_type": "stream",
     "text": [
      "Most common words (+UNK) [['UNK', 418391], ('the', 1061396), ('of', 593677), ('and', 416629), ('one', 411764)]\n",
      "Sample data [5239, 3084, 12, 6, 195, 2, 3137, 46, 59, 156]\n"
     ]
    }
   ],
   "source": [
    "vocabulary_size = 50000\n",
    "\n",
    "def build_dataset(words):\n",
    "    count = [['UNK', -1]]\n",
    "    count.extend(collections.Counter(words).most_common(vocabulary_size - 1))\n",
    "    dictionary = dict()\n",
    "    for word, _ in count:\n",
    "        dictionary[word] = len(dictionary)\n",
    "    data = list()\n",
    "    unk_count = 0\n",
    "    for word in words:\n",
    "        if word in dictionary:\n",
    "            index = dictionary[word]\n",
    "        else:\n",
    "            index = 0  # dictionary['UNK']\n",
    "            unk_count = unk_count + 1\n",
    "        data.append(index)\n",
    "    count[0][1] = unk_count\n",
    "    reverse_dictionary = dict(zip(dictionary.values(), dictionary.keys())) \n",
    "    return data, count, dictionary, reverse_dictionary\n",
    "\n",
    "data, count, dictionary, reverse_dictionary = build_dataset(words)\n",
    "print('Most common words (+UNK)', count[:5])\n",
    "print('Sample data', data[:10])\n",
    "del words  # Hint to reduce memory."
   ]
  },
  {
   "cell_type": "markdown",
   "metadata": {
    "colab_type": "text",
    "id": "lFwoyygOmWsL"
   },
   "source": [
    "Function to generate a training batch for the skip-gram model."
   ]
  },
  {
   "cell_type": "code",
   "execution_count": 5,
   "metadata": {
    "cellView": "both",
    "colab": {
     "autoexec": {
      "startup": false,
      "wait_interval": 0
     },
     "output_extras": [
      {
       "item_id": 1
      }
     ]
    },
    "colab_type": "code",
    "collapsed": false,
    "executionInfo": {
     "elapsed": 113,
     "status": "ok",
     "timestamp": 1445964901989,
     "user": {
      "color": "#1FA15D",
      "displayName": "Vincent Vanhoucke",
      "isAnonymous": false,
      "isMe": true,
      "permissionId": "05076109866853157986",
      "photoUrl": "//lh6.googleusercontent.com/-cCJa7dTDcgQ/AAAAAAAAAAI/AAAAAAAACgw/r2EZ_8oYer4/s50-c-k-no/photo.jpg",
      "sessionId": "2f1ffade4c9f20de",
      "userId": "102167687554210253930"
     },
     "user_tz": 420
    },
    "id": "w9APjA-zmfjV",
    "outputId": "67cccb02-cdaf-4e47-d489-43bcc8d57bb8"
   },
   "outputs": [
    {
     "name": "stdout",
     "output_type": "stream",
     "text": [
      "data: ['anarchism', 'originated', 'as', 'a', 'term', 'of', 'abuse', 'first']\n",
      "\n",
      "with num_skips = 8 and skip_window = 1:\n",
      "    batch: ['anarchism', 'as', 'a', 'originated', 'as', 'term', 'of', 'a']\n",
      "    labels: ['originated', 'as', 'a', 'term']\n",
      "\n",
      "with num_skips = 4 and skip_window = 2:\n",
      "    batch: ['originated', 'a', 'anarchism', 'term', 'as', 'originated', 'term', 'of']\n",
      "    labels: ['as', 'a']\n"
     ]
    }
   ],
   "source": [
    "data_index = 0\n",
    "\n",
    "def generate_batch_cbow(batch_size, skip_window):\n",
    "    global data_index\n",
    "    context_window = 2 * skip_window  # calculate the context_window - this is the total number of words around the target\n",
    "    assert batch_size % context_window == 0 # ensure the context window can be taken from the batch size\n",
    "    num_labels = batch_size / context_window # how many context windows fit in the batch\n",
    "    batch = np.ndarray(shape=(batch_size), dtype=np.int32)\n",
    "    labels = np.ndarray(shape=(num_labels, 1), dtype=np.int32)\n",
    "    span = 2 * skip_window + 1 # [ skip_window target skip_window ]\n",
    "    buffer = collections.deque(maxlen=span)\n",
    "    for _ in range(span):\n",
    "        buffer.append(data[data_index])\n",
    "        data_index = (data_index + 1) % len(data)\n",
    "    for i in range(batch_size // context_window):\n",
    "        target = skip_window  # target label at the center of the buffer\n",
    "        labels[i, 0] = buffer[skip_window]\n",
    "        targets_to_avoid = [ skip_window ]\n",
    "        for j in range(context_window):\n",
    "            while target in targets_to_avoid:\n",
    "                target = random.randint(0, span - 1)\n",
    "            targets_to_avoid.append(target)\n",
    "            batch[i * context_window + j] = buffer[target]\n",
    "        buffer.append(data[data_index])\n",
    "        data_index = (data_index + 1) % len(data)\n",
    "    return batch, labels\n",
    "\n",
    "print('data:', [reverse_dictionary[di] for di in data[:8]])\n",
    "\n",
    "for skip_window in [1,2]:\n",
    "    data_index = 0\n",
    "    batch, labels = generate_batch_cbow(batch_size=8, skip_window=skip_window)\n",
    "    print('\\nwith num_skips = %d and skip_window = %d:' % (8/skip_window, skip_window))\n",
    "    print('    batch:', [reverse_dictionary[bi] for bi in batch])\n",
    "    print('    labels:', [reverse_dictionary[li] for li in labels.reshape(8/(2*skip_window))])"
   ]
  },
  {
   "cell_type": "markdown",
   "metadata": {
    "colab_type": "text",
    "id": "Ofd1MbBuwiva"
   },
   "source": [
    "Train a skip-gram model."
   ]
  },
  {
   "cell_type": "code",
   "execution_count": 6,
   "metadata": {
    "cellView": "both",
    "colab": {
     "autoexec": {
      "startup": false,
      "wait_interval": 0
     }
    },
    "colab_type": "code",
    "collapsed": true,
    "id": "8pQKsV4Vwlzy"
   },
   "outputs": [],
   "source": [
    "batch_size = 128\n",
    "embedding_size = 128 # Dimension of the embedding vector.\n",
    "skip_window = 1 # How many words to consider left and right.\n",
    "num_skips = 2 # How many times to reuse an input to generate a label.\n",
    "# We pick a random validation set to sample nearest neighbors. here we limit the\n",
    "# validation samples to the words that have a low numeric ID, which by\n",
    "# construction are also the most frequent. \n",
    "valid_size = 16 # Random set of words to evaluate similarity on.\n",
    "valid_window = 100 # Only pick dev samples in the head of the distribution.\n",
    "valid_examples = np.array(random.sample(range(valid_window), valid_size))\n",
    "num_sampled = 64 # Number of negative examples to sample.\n",
    "\n",
    "# General definition\n",
    "context_window = 2 * skip_window\n",
    "num_labels = batch_size / context_window\n",
    "\n",
    "graph = tf.Graph()\n",
    "\n",
    "with graph.as_default():\n",
    "\n",
    "    # Input data.\n",
    "    train_dataset = tf.placeholder(tf.int32, shape=[batch_size])\n",
    "    train_labels = tf.placeholder(tf.int32, shape=[num_labels, 1])\n",
    "    valid_dataset = tf.constant(valid_examples, dtype=tf.int32)\n",
    "  \n",
    "    # Variables.\n",
    "    embeddings = tf.Variable(\n",
    "        tf.random_uniform([vocabulary_size, embedding_size], -1.0, 1.0))\n",
    "    softmax_weights = tf.Variable(\n",
    "        tf.truncated_normal([vocabulary_size, embedding_size],\n",
    "                         stddev=1.0 / math.sqrt(embedding_size)))\n",
    "    softmax_biases = tf.Variable(tf.zeros([vocabulary_size]))\n",
    "  \n",
    "    # Model.\n",
    "    # Look up embeddings for inputs.\n",
    "    embed = tf.nn.embedding_lookup(embeddings, train_dataset)\n",
    "    seq_ids = np.array([[i]*context_window for i in range(num_sampled)]).flatten()\n",
    "    embed = tf.segment_sum(embed, seq_ids)\n",
    "    # Compute the softmax loss, using a sample of the negative labels each time.\n",
    "    loss = tf.reduce_mean(\n",
    "        tf.nn.sampled_softmax_loss(softmax_weights, softmax_biases, embed,\n",
    "                               train_labels, num_sampled, vocabulary_size))\n",
    "\n",
    "    # Optimizer.\n",
    "    optimizer = tf.train.AdagradOptimizer(1.0).minimize(loss)\n",
    "  \n",
    "    # Compute the similarity between minibatch examples and all embeddings.\n",
    "    # We use the cosine distance:\n",
    "    norm = tf.sqrt(tf.reduce_sum(tf.square(embeddings), 1, keep_dims=True))\n",
    "    normalized_embeddings = embeddings / norm\n",
    "    valid_embeddings = tf.nn.embedding_lookup(\n",
    "        normalized_embeddings, valid_dataset)\n",
    "    similarity = tf.matmul(valid_embeddings, tf.transpose(normalized_embeddings))"
   ]
  },
  {
   "cell_type": "code",
   "execution_count": 8,
   "metadata": {
    "cellView": "both",
    "colab": {
     "autoexec": {
      "startup": false,
      "wait_interval": 0
     },
     "output_extras": [
      {
       "item_id": 23
      },
      {
       "item_id": 48
      },
      {
       "item_id": 61
      }
     ]
    },
    "colab_type": "code",
    "collapsed": false,
    "executionInfo": {
     "elapsed": 436189,
     "status": "ok",
     "timestamp": 1445965429787,
     "user": {
      "color": "#1FA15D",
      "displayName": "Vincent Vanhoucke",
      "isAnonymous": false,
      "isMe": true,
      "permissionId": "05076109866853157986",
      "photoUrl": "//lh6.googleusercontent.com/-cCJa7dTDcgQ/AAAAAAAAAAI/AAAAAAAACgw/r2EZ_8oYer4/s50-c-k-no/photo.jpg",
      "sessionId": "2f1ffade4c9f20de",
      "userId": "102167687554210253930"
     },
     "user_tz": 420
    },
    "id": "1bQFGceBxrWW",
    "outputId": "5ebd6d9a-33c6-4bcd-bf6d-252b0b6055e4",
    "scrolled": true
   },
   "outputs": [
    {
     "name": "stdout",
     "output_type": "stream",
     "text": [
      "Initialized\n",
      "Average loss at step 0: 7.783331\n",
      "Nearest to states: beheld, safi, interdependent, shots, claws, chlorophyll, band, u,\n",
      "Nearest to b: abstinence, marcius, amritsar, deposited, dflp, emits, tarnished, sever,\n",
      "Nearest to american: dizzy, indirect, seaton, hailstones, queuing, akc, crandall, passwords,\n",
      "Nearest to people: lansdowne, giordano, galloping, bulletproof, impeachment, pka, bangladesh, clusters,\n",
      "Nearest to he: tertius, auckland, experiences, captive, castration, hephaestion, intrusion, con,\n",
      "Nearest to world: outflow, letsie, posts, dotted, coven, leptons, tractates, burgesses,\n",
      "Nearest to will: pox, disapproved, vaughn, pogroms, affects, occupies, calwell, hinayana,\n",
      "Nearest to his: features, akan, bleach, radon, strived, province, lupus, favours,\n",
      "Nearest to that: inflammatory, pipers, eisner, eugenie, hofstadter, incomprehensible, zhu, sarajevo,\n",
      "Nearest to most: inasmuch, siberian, ballots, optical, modell, employed, rubenstein, detriment,\n",
      "Nearest to other: upscale, unary, canonised, hoard, fpss, functionalist, castell, hi,\n",
      "Nearest to only: tsim, ligases, inhumane, deserving, kola, tenniel, internalized, legends,\n",
      "Nearest to i: deceit, othniel, worse, heckman, measurements, exported, rustic, manner,\n",
      "Nearest to a: felony, egmont, parcels, betrayal, seaboard, sidelines, gingrich, oversees,\n",
      "Nearest to been: cabral, sandstorms, donut, floresiensis, reestablishment, orderly, heliports, disclaimed,\n",
      "Nearest to four: ribosome, ropes, malting, teleplay, worldly, carbines, menagerie, hanlon,\n",
      "Average loss at step 2000: 4.226807\n",
      "Average loss at step 4000: 3.636816\n",
      "Average loss at step 6000: 3.549703\n",
      "Average loss at step 8000: 3.387287\n",
      "Average loss at step 10000: 3.295756\n",
      "Nearest to states: shots, rebuked, countries, beheld, morgan, netted, handle, stabilizes,\n",
      "Nearest to b: d, juneau, tolson, abstinence, rockville, magellan, durian, parthia,\n",
      "Nearest to american: french, and, glycine, moods, nome, cassini, cai, thracian,\n",
      "Nearest to people: signet, haze, playstation, cases, pretence, commencing, wasteland, charterers,\n",
      "Nearest to he: she, it, they, there, who, we, exterminated, subscribed,\n",
      "Nearest to world: u, nec, letsie, shock, voted, region, fresnel, nss,\n",
      "Nearest to will: can, could, would, may, should, might, must, cannot,\n",
      "Nearest to his: their, her, its, the, my, s, aleut, merchandise,\n",
      "Nearest to that: which, argos, eventually, rst, shout, opportunities, when, curtain,\n",
      "Nearest to most: more, schilling, pushing, modena, parti, paradigmatic, yugoslavia, wraith,\n",
      "Nearest to other: battling, some, ways, these, reverence, different, many, birthdate,\n",
      "Nearest to only: pursuant, replaced, tsim, tabasco, hansard, ddd, eagle, contingents,\n",
      "Nearest to i: we, they, grasso, sociopolitical, she, legality, mamre, you,\n",
      "Nearest to a: the, this, plated, historiographical, kazakstan, no, pongo, treblinka,\n",
      "Nearest to been: become, were, be, was, tendons, ruiz, hart, thoughtful,\n",
      "Nearest to four: six, seven, eight, three, zero, five, two, nine,\n",
      "Average loss at step 12000: 3.273646\n",
      "Average loss at step 14000: 3.242148\n",
      "Average loss at step 16000: 3.019836\n",
      "Average loss at step 18000: 3.055558\n",
      "Average loss at step 20000: 3.152527\n",
      "Nearest to states: nations, types, countries, netted, shots, dylan, pixar, poseidon,\n",
      "Nearest to b: d, juneau, rockville, limestone, dalmatian, normalize, eda, foundry,\n",
      "Nearest to american: british, italian, french, canadian, english, german, spanish, ancient,\n",
      "Nearest to people: cases, others, men, behaviours, sadc, holidays, buoyancy, times,\n",
      "Nearest to he: she, it, they, who, there, druyan, exterminated, bilirubin,\n",
      "Nearest to world: u, holy, voted, book, ang, vietnam, fresnel, outflow,\n",
      "Nearest to will: would, can, should, could, may, must, might, cannot,\n",
      "Nearest to his: her, their, my, its, the, this, our, whose,\n",
      "Nearest to that: which, but, however, what, rst, lanthanides, tallinn, gaul,\n",
      "Nearest to most: more, some, schilling, wraith, leopoldo, less, sidemen, lively,\n",
      "Nearest to other: many, different, various, some, reverence, woolwich, telepathy, confucianism,\n",
      "Nearest to only: garter, customs, cues, deserving, replaced, jethro, intercept, tilt,\n",
      "Nearest to i: ii, we, iii, lawrencium, haereses, spousal, mons, verona,\n",
      "Nearest to a: any, palme, another, very, nationalism, braddock, acyclic, firenze,\n",
      "Nearest to been: become, be, cliffordadams, already, tendons, were, boutros, was,\n",
      "Nearest to four: seven, five, six, eight, three, nine, two, zero,\n",
      "Average loss at step 22000: 3.119410\n",
      "Average loss at step 24000: 3.076549\n",
      "Average loss at step 26000: 3.057445\n",
      "Average loss at step 28000: 3.063464\n",
      "Average loss at step 30000: 3.088435\n",
      "Nearest to states: countries, nations, kingdom, netted, horn, state, amazingly, poseidon,\n",
      "Nearest to b: d, c, tolson, eda, limestone, chihuly, normalize, rave,\n",
      "Nearest to american: british, australian, canadian, italian, english, austrian, pianists, german,\n",
      "Nearest to people: others, scientists, cases, writers, children, secretive, men, jews,\n",
      "Nearest to he: she, it, they, originally, who, there, we, never,\n",
      "Nearest to world: holy, u, outflow, place, continent, vietnam, region, showings,\n",
      "Nearest to will: would, can, may, must, could, should, might, cannot,\n",
      "Nearest to his: their, her, its, my, the, our, your, whose,\n",
      "Nearest to that: which, what, this, lanthanides, dependant, wt, christof, if,\n",
      "Nearest to most: more, jewell, among, schilling, paradigmatic, lively, sponsors, many,\n",
      "Nearest to other: different, older, several, various, reverence, jirga, marcellinus, some,\n",
      "Nearest to only: november, crucible, still, always, desperation, joual, vous, directive,\n",
      "Nearest to i: we, you, ii, iii, g, they, jerome, zeeland,\n",
      "Nearest to a: no, the, another, plated, palme, suckling, generalizes, any,\n",
      "Nearest to been: become, were, was, be, come, already, thoughtful, refraining,\n",
      "Nearest to four: seven, eight, six, three, five, nine, zero, two,\n",
      "Average loss at step 32000: 3.081313\n",
      "Average loss at step 34000: 3.045467\n",
      "Average loss at step 36000: 2.995827\n",
      "Average loss at step 38000: 2.797691\n",
      "Average loss at step 40000: 2.982875\n",
      "Nearest to states: nations, countries, kingdom, netted, archers, state, horn, secretion,\n",
      "Nearest to b: d, p, e, r, UNK, c, g, j,\n",
      "Nearest to american: canadian, russian, australian, indian, german, british, italian, yea,\n",
      "Nearest to people: men, scientists, cases, individuals, children, intercepted, person, animals,\n",
      "Nearest to he: she, it, they, newbie, i, who, there, we,\n",
      "Nearest to world: u, rod, bombed, continent, moe, album, oedipus, buckyballs,\n",
      "Nearest to will: would, can, must, could, should, may, cannot, might,\n",
      "Nearest to his: their, her, its, my, your, whose, the, our,\n",
      "Nearest to that: which, what, this, however, generally, blogging, krag, rst,\n",
      "Nearest to most: more, among, less, leopoldo, anacletus, paradigmatic, schilling, lively,\n",
      "Nearest to other: various, different, older, reverence, several, many, takeovers, numerous,\n",
      "Nearest to only: esteemed, cahokia, usually, toasts, option, always, not, santos,\n",
      "Nearest to i: we, you, g, iii, ii, he, she, pasta,\n",
      "Nearest to a: another, palme, the, any, adherence, every, coupled, numbers,\n",
      "Nearest to been: become, be, were, being, badly, never, are, was,\n",
      "Nearest to four: eight, six, seven, five, two, nine, three, one,\n",
      "Average loss at step 42000: 2.983240\n",
      "Average loss at step 44000: 2.987076\n",
      "Average loss at step 46000: 2.983530\n",
      "Average loss at step 48000: 2.881806\n",
      "Average loss at step 50000: 2.903051\n",
      "Nearest to states: nations, kingdom, countries, woodland, amazingly, state, horn, rickshaws,\n",
      "Nearest to b: c, d, gif, satires, sais, carrel, brussels, crystalline,\n",
      "Nearest to american: russian, indian, italian, canadian, australian, harpo, hedonist, swiss,\n",
      "Nearest to people: men, words, children, jews, animals, baptists, scientists, letters,\n",
      "Nearest to he: she, it, they, who, there, we, newbie, gore,\n",
      "Nearest to world: u, continent, game, oedipus, savant, season, rod, buckyballs,\n",
      "Nearest to will: would, could, must, may, can, should, might, cannot,\n",
      "Nearest to his: her, their, my, its, your, whose, our, the,\n",
      "Nearest to that: which, however, deoxyribonucleic, thief, weston, meantime, blogging, rst,\n",
      "Nearest to most: more, less, some, schilling, sponsors, many, among, futures,\n",
      "Nearest to other: different, older, many, some, various, reverence, those, multiple,\n",
      "Nearest to only: rask, now, praetorian, always, anglicanism, either, intractable, never,\n",
      "Nearest to i: we, you, g, p, c, they, meo, d,\n",
      "Nearest to a: another, the, kazakstan, generalizes, plated, any, postmodernist, beasts,\n",
      "Nearest to been: become, be, being, was, already, were, figured, entrenched,\n",
      "Nearest to four: six, seven, three, five, eight, nine, two, zero,\n",
      "Average loss at step 52000: 2.953902\n",
      "Average loss at step 54000: 2.930086\n",
      "Average loss at step 56000: 2.957082\n",
      "Average loss at step 58000: 2.877521\n",
      "Average loss at step 60000: 2.897687\n",
      "Nearest to states: nations, kingdom, countries, rebuked, hamlin, regions, state, netted,\n",
      "Nearest to b: c, p, d, khair, assailants, rescues, z, cl,\n",
      "Nearest to american: italian, russian, canadian, indian, australian, harpo, african, austrian,\n",
      "Nearest to people: men, women, cultures, scientists, tribes, individuals, jews, players,\n",
      "Nearest to he: she, it, they, originally, finally, who, never, eventually,\n",
      "Nearest to world: u, continent, buckyballs, savant, outflow, moe, european, rod,\n",
      "Nearest to will: could, must, would, can, may, should, might, cannot,\n",
      "Nearest to his: her, their, my, its, your, our, xxxii, favours,\n",
      "Nearest to that: which, what, this, lanthanides, it, gauntlets, defoe, strat,\n",
      "Nearest to most: some, many, groves, more, lack, scherzo, end, lively,\n",
      "Nearest to other: different, older, smokey, others, various, many, those, sala,\n",
      "Nearest to only: always, until, actually, appearances, still, never, missing, do,\n",
      "Nearest to i: we, you, ii, heaney, molten, g, reisman, intrinsic,\n",
      "Nearest to a: the, another, any, airtime, palme, kazakstan, retract, swine,\n",
      "Nearest to been: become, be, was, remained, disturbed, being, experienced, come,\n",
      "Nearest to four: six, five, eight, three, seven, nine, two, zero,\n",
      "Average loss at step 62000: 2.683755\n",
      "Average loss at step 64000: 2.699987\n",
      "Average loss at step 66000: 2.879155\n",
      "Average loss at step 68000: 2.888142\n",
      "Average loss at step 70000: 2.832167\n",
      "Nearest to states: nations, kingdom, countries, state, initialized, deposition, domination, robotics,\n",
      "Nearest to b: h, d, z, p, qualifies, j, sais, capitalistic,\n",
      "Nearest to american: italian, korean, australian, indian, harpo, america, swiss, canadian,\n",
      "Nearest to people: women, men, scientists, individuals, children, cultures, players, those,\n",
      "Nearest to he: she, it, they, there, badly, eventually, newbie, we,\n",
      "Nearest to world: u, supreme, philadelphia, continent, venereal, wachowski, savant, season,\n",
      "Nearest to will: would, may, could, can, might, must, cannot, should,\n",
      "Nearest to his: her, their, my, its, your, the, personal, our,\n",
      "Nearest to that: which, however, what, typically, this, lanthanides, where, there,\n",
      "Nearest to most: more, less, many, lively, particularly, some, sponsors, highly,\n",
      "Nearest to other: multiple, different, others, older, various, smokey, reverence, battling,\n",
      "Nearest to only: posteriori, always, polarizing, insured, ouster, usually, last, still,\n",
      "Nearest to i: we, heaney, ii, stockton, carpenters, meo, molten, intrinsic,\n",
      "Nearest to a: palme, another, quite, the, enough, generalizes, ghazni, stijl,\n",
      "Nearest to been: become, be, remained, experienced, was, already, grown, recently,\n",
      "Nearest to four: five, seven, six, eight, three, nine, zero, two,\n",
      "Average loss at step 72000: 2.863852\n",
      "Average loss at step 74000: 2.830623\n",
      "Average loss at step 76000: 2.820694\n",
      "Average loss at step 78000: 2.827307\n",
      "Average loss at step 80000: 2.852228\n",
      "Nearest to states: kingdom, nations, state, countries, woodland, poseidon, horn, robotics,\n",
      "Nearest to b: c, d, j, cali, rede, cl, dxf, stf,\n",
      "Nearest to american: british, french, italian, russian, astro, scottish, korean, indian,\n",
      "Nearest to people: men, women, children, baptists, individuals, others, jews, cultures,\n",
      "Nearest to he: she, it, they, there, we, probably, originally, who,\n",
      "Nearest to world: u, uk, vanquished, philadelphia, oedipus, posts, carols, kush,\n",
      "Nearest to will: would, can, could, must, cannot, should, may, might,\n",
      "Nearest to his: her, their, my, your, its, our, personal, the,\n",
      "Nearest to that: which, however, what, crystallize, lanthanides, strat, roving, adr,\n",
      "Nearest to most: some, more, less, many, among, especially, sponsors, particularly,\n",
      "Nearest to other: others, older, various, sala, fida, coping, smokey, domesticated,\n",
      "Nearest to only: last, always, polarizing, usually, rask, comparisons, eurofighter, either,\n",
      "Nearest to i: ii, we, slums, j, mamre, g, sa, heaney,\n",
      "Nearest to a: another, the, generalizes, palme, grafton, every, little, gcd,\n",
      "Nearest to been: become, be, remained, was, already, experienced, sioux, occurred,\n",
      "Nearest to four: six, five, eight, three, seven, nine, zero, two,\n",
      "Average loss at step 82000: 2.885642\n",
      "Average loss at step 84000: 2.889056\n",
      "Average loss at step 86000: 2.853636\n",
      "Average loss at step 88000: 2.809261\n",
      "Average loss at step 90000: 2.817901\n",
      "Nearest to states: nations, kingdom, state, countries, us, hallucinations, constitutions, curdled,\n",
      "Nearest to b: l, meo, c, stf, mez, h, lowercase, ramayana,\n",
      "Nearest to american: italian, british, russian, australian, canadian, korean, americans, indian,\n",
      "Nearest to people: women, children, baptists, students, person, players, americans, man,\n",
      "Nearest to he: she, it, they, there, originally, we, who, twh,\n",
      "Nearest to world: u, copula, uk, napoleonic, supreme, carols, acheson, savant,\n",
      "Nearest to will: must, would, can, could, cannot, may, might, should,\n",
      "Nearest to his: her, their, its, my, your, our, the, whose,\n",
      "Nearest to that: which, however, lanthanides, abruptly, what, nevado, vai, relaxing,\n",
      "Nearest to most: many, some, less, more, particularly, groves, all, among,\n",
      "Nearest to other: various, sala, coping, multiple, industrial, individual, specific, older,\n",
      "Nearest to only: last, even, kristina, polarizing, no, always, chiefly, standardised,\n",
      "Nearest to i: g, ii, iii, vii, you, we, irreplaceable, iv,\n",
      "Nearest to a: the, every, another, supermarkets, any, generalizes, palme, airtime,\n",
      "Nearest to been: become, remained, was, already, previously, be, being, experienced,\n",
      "Nearest to four: seven, five, three, eight, six, two, nine, zero,\n",
      "Average loss at step 92000: 2.862007\n",
      "Average loss at step 94000: 2.687684\n",
      "Average loss at step 96000: 2.832134\n",
      "Average loss at step 98000: 2.690173\n",
      "Average loss at step 100000: 2.815958\n",
      "Nearest to states: nations, kingdom, countries, state, us, pedagogy, companies, andalusia,\n",
      "Nearest to b: d, pardo, landholdings, rey, vah, geologist, durian, kenneth,\n",
      "Nearest to american: british, italian, canadian, russian, americans, australian, swiss, french,\n",
      "Nearest to people: children, women, countries, men, players, others, individuals, cultures,\n",
      "Nearest to he: she, it, they, there, who, we, never, nobita,\n",
      "Nearest to world: u, oedipus, uk, napoleonic, season, country, finest, eurosceptic,\n",
      "Nearest to will: would, can, must, could, cannot, should, may, might,\n",
      "Nearest to his: her, their, my, your, our, its, the, whose,\n",
      "Nearest to that: which, what, however, nevertheless, nevado, strat, rst, cortex,\n",
      "Nearest to most: more, less, highly, both, especially, lively, heir, some,\n",
      "Nearest to other: others, older, smokey, various, individual, coping, sala, rather,\n",
      "Nearest to only: polarizing, last, best, ouster, normally, chiefly, no, reciprocate,\n",
      "Nearest to i: ii, we, you, iii, they, g, vii, antonin,\n",
      "Nearest to a: another, the, plated, any, palme, braddock, enough, historiographical,\n",
      "Nearest to been: become, remained, be, previously, already, was, were, recently,\n",
      "Nearest to four: seven, five, six, eight, nine, two, three, zero,\n"
     ]
    }
   ],
   "source": [
    "num_steps = 100001\n",
    "\n",
    "with tf.Session(graph=graph) as session:\n",
    "    tf.initialize_all_variables().run()\n",
    "    print('Initialized')\n",
    "    average_loss = 0\n",
    "    for step in range(num_steps):\n",
    "        batch_data, batch_labels = generate_batch_cbow(batch_size, skip_window)\n",
    "        feed_dict = {train_dataset : batch_data, train_labels : batch_labels}\n",
    "        _, l = session.run([optimizer, loss], feed_dict=feed_dict)\n",
    "        average_loss += l\n",
    "        if step % 2000 == 0:\n",
    "            if step > 0:\n",
    "                average_loss = average_loss / 2000\n",
    "            # The average loss is an estimate of the loss over the last 2000 batches.\n",
    "            print('Average loss at step %d: %f' % (step, average_loss))\n",
    "            average_loss = 0\n",
    "        # note that this is expensive (~20% slowdown if computed every 500 steps)\n",
    "        if step % 10000 == 0:\n",
    "            sim = similarity.eval()\n",
    "            for i in range(valid_size):\n",
    "                valid_word = reverse_dictionary[valid_examples[i]]\n",
    "                top_k = 8 # number of nearest neighbors\n",
    "                nearest = (-sim[i, :]).argsort()[1:top_k+1]\n",
    "                log = 'Nearest to %s:' % valid_word\n",
    "                for k in range(top_k):\n",
    "                    close_word = reverse_dictionary[nearest[k]]\n",
    "                    log = '%s %s,' % (log, close_word)\n",
    "                print(log)\n",
    "    final_embeddings = normalized_embeddings.eval()"
   ]
  },
  {
   "cell_type": "code",
   "execution_count": 9,
   "metadata": {
    "cellView": "both",
    "colab": {
     "autoexec": {
      "startup": false,
      "wait_interval": 0
     }
    },
    "colab_type": "code",
    "collapsed": false,
    "id": "jjJXYA_XzV79"
   },
   "outputs": [
    {
     "name": "stdout",
     "output_type": "stream",
     "text": [
      "True\n"
     ]
    }
   ],
   "source": [
    "num_points = 100\n",
    "\n",
    "tsne = TSNE(perplexity=30, n_components=2, init='pca', n_iter=5000)\n",
    "two_d_embeddings = tsne.fit_transform(final_embeddings[1:num_points+1, :])"
   ]
  },
  {
   "cell_type": "code",
   "execution_count": 10,
   "metadata": {
    "cellView": "both",
    "colab": {
     "autoexec": {
      "startup": false,
      "wait_interval": 0
     },
     "output_extras": [
      {
       "item_id": 1
      }
     ]
    },
    "colab_type": "code",
    "collapsed": false,
    "executionInfo": {
     "elapsed": 4763,
     "status": "ok",
     "timestamp": 1445965465525,
     "user": {
      "color": "#1FA15D",
      "displayName": "Vincent Vanhoucke",
      "isAnonymous": false,
      "isMe": true,
      "permissionId": "05076109866853157986",
      "photoUrl": "//lh6.googleusercontent.com/-cCJa7dTDcgQ/AAAAAAAAAAI/AAAAAAAACgw/r2EZ_8oYer4/s50-c-k-no/photo.jpg",
      "sessionId": "2f1ffade4c9f20de",
      "userId": "102167687554210253930"
     },
     "user_tz": 420
    },
    "id": "o_e0D_UezcDe",
    "outputId": "df22e4a5-e8ec-4e5e-d384-c6cf37c68c34"
   },
   "outputs": [
    {
     "data": {
      "image/png": "[encoded data removed]",
      "text/plain": [
       "<matplotlib.figure.Figure at 0x12321be90>"
      ]
     },
     "metadata": {},
     "output_type": "display_data"
    }
   ],
   "source": [
    "def plot(embeddings, labels):\n",
    "  assert embeddings.shape[0] >= len(labels), 'More labels than embeddings'\n",
    "  pylab.figure(figsize=(15,15))  # in inches\n",
    "  for i, label in enumerate(labels):\n",
    "    x, y = embeddings[i,:]\n",
    "    pylab.scatter(x, y)\n",
    "    pylab.annotate(label, xy=(x, y), xytext=(5, 2), textcoords='offset points',\n",
    "                   ha='right', va='bottom')\n",
    "  pylab.show()\n",
    "\n",
    "words = [reverse_dictionary[i] for i in range(1, num_points+1)]\n",
    "plot(two_d_embeddings, words)"
   ]
  },
  {
   "cell_type": "code",
   "execution_count": null,
   "metadata": {
    "collapsed": true
   },
   "outputs": [],
   "source": []
  }
 ],
 "metadata": {
  "colab": {
   "default_view": {},
   "name": "5_word2vec.ipynb",
   "provenance": [],
   "version": "0.3.2",
   "views": {}
  },
  "kernelspec": {
   "display_name": "Python 2",
   "language": "python",
   "name": "python2"
  },
  "language_info": {
   "codemirror_mode": {
    "name": "ipython",
    "version": 2
   },
   "file_extension": ".py",
   "mimetype": "text/x-python",
   "name": "python",
   "nbconvert_exporter": "python",
   "pygments_lexer": "ipython2",
   "version": "2.7.11"
  }
 },
 "nbformat": 4,
 "nbformat_minor": 0
}
